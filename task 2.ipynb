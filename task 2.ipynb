{
 "cells": [
  {
   "cell_type": "code",
   "execution_count": 2,
   "id": "74725813",
   "metadata": {},
   "outputs": [],
   "source": [
    "import tkinter as tk\n",
    "\n",
    "def on_button_click(event):\n",
    "    text = event.widget.cget(\"text\")\n",
    "    \n",
    "    if text == \"=\":\n",
    "        try:\n",
    "            result = str(eval(entry.get()))\n",
    "            entry.delete(0, tk.END)\n",
    "            entry.insert(tk.END, result)\n",
    "        except Exception as e:\n",
    "            entry.delete(0, tk.END)\n",
    "            entry.insert(tk.END, \"Error\")\n",
    "    elif text == \"C\":\n",
    "        entry.delete(0, tk.END)\n",
    "    else:\n",
    "        entry.insert(tk.END, text)\n",
    "\n",
    "root = tk.Tk()\n",
    "root.geometry(\"300x400\")\n",
    "root.title(\"Calculator\")\n",
    "\n",
    "entry = tk.Entry(root, font=(\"Helvetica\", 20))\n",
    "entry.pack(fill=tk.BOTH, ipadx=8, padx=10, pady=10)\n",
    "\n",
    "button_frame = tk.Frame(root)\n",
    "button_frame.pack()\n",
    "\n",
    "buttons = [\n",
    "    '7', '8', '9', '/',\n",
    "    '4', '5', '6', '*',\n",
    "    '1', '2', '3', '-',\n",
    "    'C', '0', '=', '+',\n",
    "    \n",
    "]\n",
    "\n",
    "row_value = 1\n",
    "col_value = 0\n",
    "\n",
    "for button in buttons:\n",
    "    tk_button = tk.Button(button_frame, text=button, font=(\"Helvetica\", 15), padx=20, pady=20)\n",
    "    tk_button.grid(row=row_value, column=col_value)\n",
    "    tk_button.bind(\"<Button-1>\", on_button_click)\n",
    "    \n",
    "    col_value += 1\n",
    "    if col_value > 3:\n",
    "        col_value = 0\n",
    "        row_value += 1\n",
    "\n",
    "root.mainloop()\n"
   ]
  }
 ],
 "metadata": {
  "kernelspec": {
   "display_name": "Python 3 (ipykernel)",
   "language": "python",
   "name": "python3"
  },
  "language_info": {
   "codemirror_mode": {
    "name": "ipython",
    "version": 3
   },
   "file_extension": ".py",
   "mimetype": "text/x-python",
   "name": "python",
   "nbconvert_exporter": "python",
   "pygments_lexer": "ipython3",
   "version": "3.10.9"
  }
 },
 "nbformat": 4,
 "nbformat_minor": 5
}
